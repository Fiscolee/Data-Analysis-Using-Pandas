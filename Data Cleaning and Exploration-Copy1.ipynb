{
 "cells": [
  {
   "cell_type": "markdown",
   "metadata": {},
   "source": [
    "Before you turn this problem in, make sure everything runs as expected. First, **restart the kernel** (in the menu bar, select Kernel$\\rightarrow$Restart) and then **run all cells** (in the menu bar, select Cell$\\rightarrow$Run All).\n",
    "\n",
    "Make sure that in addition to the code, you provide written answers for all questions of the assignment. \n",
    "\n",
    "Below, please fill in your name:"
   ]
  },
  {
   "cell_type": "code",
   "execution_count": 94,
   "metadata": {},
   "outputs": [],
   "source": [
    "NAME = \"Fisayo Mojeed\""
   ]
  },
  {
   "cell_type": "markdown",
   "metadata": {},
   "source": [
    "## Assignment 1 - Data Cleaning & Exploration\n",
    "**(30 points total)**"
   ]
  },
  {
   "cell_type": "markdown",
   "metadata": {},
   "source": [
    "For this assignment, we will use an open dataset with data on various types of cereal and the corresponding customer ratings. Use the .csv file provided.\n",
    "\n",
    "Create a dataframe by importing the file into Jupyter, and complete the tasks below. Be sure to show your Python code. You will not be graded on code efficiency, but your code should return a correct answer."
   ]
  },
  {
   "cell_type": "markdown",
   "metadata": {},
   "source": [
    "**Question 1.**  _(4 points)_\n",
    "* Create a new 'Type of Cereal' column in your dataframe (1 point) by copying the 'name' column. Write a function to replace the names of the cereal in your new column with one of these categories Bran, Wheat, Fiber, Protein, Crunch, Corn, Nut, Rice and Other (3 points). Hint: the function should look through the text in the cereal name and determine, based on its contents, how to categorize the cereal type.\n",
    "\n",
    "**Question 2.**  _(2 points)_\n",
    "* Identify the negative values in the data set and replace them with the median value for that column. \n",
    "\n",
    "**Question 3.** _(5 points)_\n",
    "* Standardize the 'weight' column to 1. For this question, you will need to write a function to divide the remaining columns which contain nutritional information by the corresponding value in the weight column, and you will need to divide the value in the weight column by itself in order to get 1. For example, if an observation has a weight value of 1.33 and a calories value of 250, if you divide 250/1.33 you should get a calories value of 188 and a weight value of 1. \n",
    "\n",
    "**Question 4.**  _(5 points)_\n",
    "* Create a new column to categorize cereals as 'healthy' vs. 'unhealthy'. You can define your own version of healthy vs. unhealthy, or you can use the following: healthy cereals can be defined as those which have low calories (<100), low sodium (<150), low sugar (<9) high fiber (>3), and high protein (>2). All other cereals are unhealthy.\n",
    "\n",
    "**Question 5.** _(2 points)_\n",
    "* Based on your newly prepared data set, identify what % of cereals that each manufacturer produces are healthy.\n",
    "\n",
    "**Question 6.** _(2 points)_\n",
    "* Calculate the average, minimum and maximum ratings for healthy vs. unhealthy cereals.\n",
    "\n",
    "**Question 7.** _(2 points)_\n",
    "* Calculate the average, minimum and maximum ratings for each type of cereal: Bran, Wheat, Fiber, Protein, Crunch, Corn, Nut, Rice and Other.\n",
    "\n",
    "**Question 8.** _(3 points)_\n",
    "* Create a stacked bar chart which shows how many of each type of cereal each manufacturer produces.\n",
    "\n",
    "**Question 9.** _(3 points)_\n",
    "* Create a 3-dimensional scatterplot which shows the relationship between rating and calories; the 3-rd dimension should be reflected in the color of the dots and should highlight whether the cereal is categorized as healthy or unhealthy. \n",
    "\n",
    "**Question 10.** _(1 point)_\n",
    "* Which shelf has the most healthy cereals?\n",
    "\n",
    "**Question 11.** _(1 point)_\n",
    "* Based on the analysis conducted, what can you conclude about the cereal data set?"
   ]
  },
  {
   "cell_type": "markdown",
   "metadata": {},
   "source": []
  },
  {
   "cell_type": "code",
   "execution_count": 95,
   "metadata": {},
   "outputs": [],
   "source": [
    "import pandas as pd\n",
    "import numpy as np\n",
    "import seaborn as sns\n",
    "import matplotlib.pyplot as plt\n"
   ]
  },
  {
   "cell_type": "code",
   "execution_count": 96,
   "metadata": {},
   "outputs": [],
   "source": [
    "df = pd.read_csv('cereal 2.csv')"
   ]
  },
  {
   "cell_type": "code",
   "execution_count": 97,
   "metadata": {},
   "outputs": [
    {
     "data": {
      "text/html": [
       "<div>\n",
       "<style scoped>\n",
       "    .dataframe tbody tr th:only-of-type {\n",
       "        vertical-align: middle;\n",
       "    }\n",
       "\n",
       "    .dataframe tbody tr th {\n",
       "        vertical-align: top;\n",
       "    }\n",
       "\n",
       "    .dataframe thead th {\n",
       "        text-align: right;\n",
       "    }\n",
       "</style>\n",
       "<table border=\"1\" class=\"dataframe\">\n",
       "  <thead>\n",
       "    <tr style=\"text-align: right;\">\n",
       "      <th></th>\n",
       "      <th>name</th>\n",
       "      <th>mfr</th>\n",
       "      <th>type</th>\n",
       "      <th>calories</th>\n",
       "      <th>protein</th>\n",
       "      <th>fat</th>\n",
       "      <th>sodium</th>\n",
       "      <th>fiber</th>\n",
       "      <th>carbo</th>\n",
       "      <th>sugars</th>\n",
       "      <th>potass</th>\n",
       "      <th>vitamins</th>\n",
       "      <th>shelf</th>\n",
       "      <th>weight</th>\n",
       "      <th>cups</th>\n",
       "      <th>rating</th>\n",
       "    </tr>\n",
       "  </thead>\n",
       "  <tbody>\n",
       "    <tr>\n",
       "      <th>0</th>\n",
       "      <td>100% Bran</td>\n",
       "      <td>N</td>\n",
       "      <td>C</td>\n",
       "      <td>70</td>\n",
       "      <td>4</td>\n",
       "      <td>1</td>\n",
       "      <td>130</td>\n",
       "      <td>10.0</td>\n",
       "      <td>5.0</td>\n",
       "      <td>6</td>\n",
       "      <td>280</td>\n",
       "      <td>25</td>\n",
       "      <td>3</td>\n",
       "      <td>1.0</td>\n",
       "      <td>0.33</td>\n",
       "      <td>68.402973</td>\n",
       "    </tr>\n",
       "    <tr>\n",
       "      <th>1</th>\n",
       "      <td>100% Natural Bran</td>\n",
       "      <td>Q</td>\n",
       "      <td>C</td>\n",
       "      <td>120</td>\n",
       "      <td>3</td>\n",
       "      <td>5</td>\n",
       "      <td>15</td>\n",
       "      <td>2.0</td>\n",
       "      <td>8.0</td>\n",
       "      <td>8</td>\n",
       "      <td>135</td>\n",
       "      <td>0</td>\n",
       "      <td>3</td>\n",
       "      <td>1.0</td>\n",
       "      <td>1.00</td>\n",
       "      <td>33.983679</td>\n",
       "    </tr>\n",
       "    <tr>\n",
       "      <th>2</th>\n",
       "      <td>All-Bran</td>\n",
       "      <td>K</td>\n",
       "      <td>C</td>\n",
       "      <td>70</td>\n",
       "      <td>4</td>\n",
       "      <td>1</td>\n",
       "      <td>260</td>\n",
       "      <td>9.0</td>\n",
       "      <td>7.0</td>\n",
       "      <td>5</td>\n",
       "      <td>320</td>\n",
       "      <td>25</td>\n",
       "      <td>3</td>\n",
       "      <td>1.0</td>\n",
       "      <td>0.33</td>\n",
       "      <td>59.425505</td>\n",
       "    </tr>\n",
       "    <tr>\n",
       "      <th>3</th>\n",
       "      <td>All-Bran with Extra Fiber</td>\n",
       "      <td>K</td>\n",
       "      <td>C</td>\n",
       "      <td>50</td>\n",
       "      <td>4</td>\n",
       "      <td>0</td>\n",
       "      <td>140</td>\n",
       "      <td>14.0</td>\n",
       "      <td>8.0</td>\n",
       "      <td>0</td>\n",
       "      <td>330</td>\n",
       "      <td>25</td>\n",
       "      <td>3</td>\n",
       "      <td>1.0</td>\n",
       "      <td>0.50</td>\n",
       "      <td>93.704912</td>\n",
       "    </tr>\n",
       "    <tr>\n",
       "      <th>4</th>\n",
       "      <td>Almond Delight</td>\n",
       "      <td>R</td>\n",
       "      <td>C</td>\n",
       "      <td>110</td>\n",
       "      <td>2</td>\n",
       "      <td>2</td>\n",
       "      <td>200</td>\n",
       "      <td>1.0</td>\n",
       "      <td>14.0</td>\n",
       "      <td>8</td>\n",
       "      <td>-1</td>\n",
       "      <td>25</td>\n",
       "      <td>3</td>\n",
       "      <td>1.0</td>\n",
       "      <td>0.75</td>\n",
       "      <td>34.384843</td>\n",
       "    </tr>\n",
       "  </tbody>\n",
       "</table>\n",
       "</div>"
      ],
      "text/plain": [
       "                        name mfr type  calories  protein  fat  sodium  fiber  \\\n",
       "0                  100% Bran   N    C        70        4    1     130   10.0   \n",
       "1          100% Natural Bran   Q    C       120        3    5      15    2.0   \n",
       "2                   All-Bran   K    C        70        4    1     260    9.0   \n",
       "3  All-Bran with Extra Fiber   K    C        50        4    0     140   14.0   \n",
       "4             Almond Delight   R    C       110        2    2     200    1.0   \n",
       "\n",
       "   carbo  sugars  potass  vitamins  shelf  weight  cups     rating  \n",
       "0    5.0       6     280        25      3     1.0  0.33  68.402973  \n",
       "1    8.0       8     135         0      3     1.0  1.00  33.983679  \n",
       "2    7.0       5     320        25      3     1.0  0.33  59.425505  \n",
       "3    8.0       0     330        25      3     1.0  0.50  93.704912  \n",
       "4   14.0       8      -1        25      3     1.0  0.75  34.384843  "
      ]
     },
     "execution_count": 97,
     "metadata": {},
     "output_type": "execute_result"
    }
   ],
   "source": [
    "df.head()"
   ]
  },
  {
   "cell_type": "code",
   "execution_count": 98,
   "metadata": {},
   "outputs": [],
   "source": [
    "df['Type of Cereal'] = df['name']\n"
   ]
  },
  {
   "cell_type": "code",
   "execution_count": 99,
   "metadata": {},
   "outputs": [
    {
     "data": {
      "text/html": [
       "<div>\n",
       "<style scoped>\n",
       "    .dataframe tbody tr th:only-of-type {\n",
       "        vertical-align: middle;\n",
       "    }\n",
       "\n",
       "    .dataframe tbody tr th {\n",
       "        vertical-align: top;\n",
       "    }\n",
       "\n",
       "    .dataframe thead th {\n",
       "        text-align: right;\n",
       "    }\n",
       "</style>\n",
       "<table border=\"1\" class=\"dataframe\">\n",
       "  <thead>\n",
       "    <tr style=\"text-align: right;\">\n",
       "      <th></th>\n",
       "      <th>name</th>\n",
       "      <th>mfr</th>\n",
       "      <th>type</th>\n",
       "      <th>calories</th>\n",
       "      <th>protein</th>\n",
       "      <th>fat</th>\n",
       "      <th>sodium</th>\n",
       "      <th>fiber</th>\n",
       "      <th>carbo</th>\n",
       "      <th>sugars</th>\n",
       "      <th>potass</th>\n",
       "      <th>vitamins</th>\n",
       "      <th>shelf</th>\n",
       "      <th>weight</th>\n",
       "      <th>cups</th>\n",
       "      <th>rating</th>\n",
       "      <th>Type of Cereal</th>\n",
       "    </tr>\n",
       "  </thead>\n",
       "  <tbody>\n",
       "    <tr>\n",
       "      <th>0</th>\n",
       "      <td>100% Bran</td>\n",
       "      <td>N</td>\n",
       "      <td>C</td>\n",
       "      <td>70</td>\n",
       "      <td>4</td>\n",
       "      <td>1</td>\n",
       "      <td>130</td>\n",
       "      <td>10.0</td>\n",
       "      <td>5.0</td>\n",
       "      <td>6</td>\n",
       "      <td>280</td>\n",
       "      <td>25</td>\n",
       "      <td>3</td>\n",
       "      <td>1.0</td>\n",
       "      <td>0.33</td>\n",
       "      <td>68.402973</td>\n",
       "      <td>100% Bran</td>\n",
       "    </tr>\n",
       "    <tr>\n",
       "      <th>1</th>\n",
       "      <td>100% Natural Bran</td>\n",
       "      <td>Q</td>\n",
       "      <td>C</td>\n",
       "      <td>120</td>\n",
       "      <td>3</td>\n",
       "      <td>5</td>\n",
       "      <td>15</td>\n",
       "      <td>2.0</td>\n",
       "      <td>8.0</td>\n",
       "      <td>8</td>\n",
       "      <td>135</td>\n",
       "      <td>0</td>\n",
       "      <td>3</td>\n",
       "      <td>1.0</td>\n",
       "      <td>1.00</td>\n",
       "      <td>33.983679</td>\n",
       "      <td>100% Natural Bran</td>\n",
       "    </tr>\n",
       "    <tr>\n",
       "      <th>2</th>\n",
       "      <td>All-Bran</td>\n",
       "      <td>K</td>\n",
       "      <td>C</td>\n",
       "      <td>70</td>\n",
       "      <td>4</td>\n",
       "      <td>1</td>\n",
       "      <td>260</td>\n",
       "      <td>9.0</td>\n",
       "      <td>7.0</td>\n",
       "      <td>5</td>\n",
       "      <td>320</td>\n",
       "      <td>25</td>\n",
       "      <td>3</td>\n",
       "      <td>1.0</td>\n",
       "      <td>0.33</td>\n",
       "      <td>59.425505</td>\n",
       "      <td>All-Bran</td>\n",
       "    </tr>\n",
       "    <tr>\n",
       "      <th>3</th>\n",
       "      <td>All-Bran with Extra Fiber</td>\n",
       "      <td>K</td>\n",
       "      <td>C</td>\n",
       "      <td>50</td>\n",
       "      <td>4</td>\n",
       "      <td>0</td>\n",
       "      <td>140</td>\n",
       "      <td>14.0</td>\n",
       "      <td>8.0</td>\n",
       "      <td>0</td>\n",
       "      <td>330</td>\n",
       "      <td>25</td>\n",
       "      <td>3</td>\n",
       "      <td>1.0</td>\n",
       "      <td>0.50</td>\n",
       "      <td>93.704912</td>\n",
       "      <td>All-Bran with Extra Fiber</td>\n",
       "    </tr>\n",
       "    <tr>\n",
       "      <th>4</th>\n",
       "      <td>Almond Delight</td>\n",
       "      <td>R</td>\n",
       "      <td>C</td>\n",
       "      <td>110</td>\n",
       "      <td>2</td>\n",
       "      <td>2</td>\n",
       "      <td>200</td>\n",
       "      <td>1.0</td>\n",
       "      <td>14.0</td>\n",
       "      <td>8</td>\n",
       "      <td>-1</td>\n",
       "      <td>25</td>\n",
       "      <td>3</td>\n",
       "      <td>1.0</td>\n",
       "      <td>0.75</td>\n",
       "      <td>34.384843</td>\n",
       "      <td>Almond Delight</td>\n",
       "    </tr>\n",
       "  </tbody>\n",
       "</table>\n",
       "</div>"
      ],
      "text/plain": [
       "                        name mfr type  calories  protein  fat  sodium  fiber  \\\n",
       "0                  100% Bran   N    C        70        4    1     130   10.0   \n",
       "1          100% Natural Bran   Q    C       120        3    5      15    2.0   \n",
       "2                   All-Bran   K    C        70        4    1     260    9.0   \n",
       "3  All-Bran with Extra Fiber   K    C        50        4    0     140   14.0   \n",
       "4             Almond Delight   R    C       110        2    2     200    1.0   \n",
       "\n",
       "   carbo  sugars  potass  vitamins  shelf  weight  cups     rating  \\\n",
       "0    5.0       6     280        25      3     1.0  0.33  68.402973   \n",
       "1    8.0       8     135         0      3     1.0  1.00  33.983679   \n",
       "2    7.0       5     320        25      3     1.0  0.33  59.425505   \n",
       "3    8.0       0     330        25      3     1.0  0.50  93.704912   \n",
       "4   14.0       8      -1        25      3     1.0  0.75  34.384843   \n",
       "\n",
       "              Type of Cereal  \n",
       "0                  100% Bran  \n",
       "1          100% Natural Bran  \n",
       "2                   All-Bran  \n",
       "3  All-Bran with Extra Fiber  \n",
       "4             Almond Delight  "
      ]
     },
     "execution_count": 99,
     "metadata": {},
     "output_type": "execute_result"
    }
   ],
   "source": [
    "df.head()"
   ]
  },
  {
   "cell_type": "code",
   "execution_count": 100,
   "metadata": {},
   "outputs": [],
   "source": [
    "def categorize_cereal(name):\n",
    "    name_lower = name.lower()\n",
    "    if 'bran' in name_lower:\n",
    "        return 'Bran'\n",
    "    elif 'wheat' in name_lower:\n",
    "        return 'Wheat'\n",
    "    elif 'fiber' in name_lower:\n",
    "        return 'Fiber'\n",
    "    elif 'protein' in name_lower or 'crunch' in name_lower:\n",
    "        return 'Protein Crunch'\n",
    "    elif 'corn' in name_lower:\n",
    "        return 'Corn'\n",
    "    elif 'nut' in name_lower:\n",
    "        return 'Nut'\n",
    "    elif 'rice' in name_lower:\n",
    "        return 'Rice'\n",
    "    else:\n",
    "        return 'Other'"
   ]
  },
  {
   "cell_type": "code",
   "execution_count": 101,
   "metadata": {},
   "outputs": [],
   "source": [
    " df['Type of Cereal'] = df['Type of Cereal'].apply(categorize_cereal) "
   ]
  },
  {
   "cell_type": "code",
   "execution_count": 102,
   "metadata": {},
   "outputs": [
    {
     "name": "stdout",
     "output_type": "stream",
     "text": [
      "                         name mfr type  calories  protein  fat  sodium  fiber  \\\n",
      "0                   100% Bran   N    C        70        4    1     130   10.0   \n",
      "1           100% Natural Bran   Q    C       120        3    5      15    2.0   \n",
      "2                    All-Bran   K    C        70        4    1     260    9.0   \n",
      "3   All-Bran with Extra Fiber   K    C        50        4    0     140   14.0   \n",
      "4              Almond Delight   R    C       110        2    2     200    1.0   \n",
      "..                        ...  ..  ...       ...      ...  ...     ...    ...   \n",
      "72                    Triples   G    C       110        2    1     250    0.0   \n",
      "73                       Trix   G    C       110        1    1     140    0.0   \n",
      "74                 Wheat Chex   R    C       100        3    1     230    3.0   \n",
      "75                   Wheaties   G    C       100        3    1     200    3.0   \n",
      "76        Wheaties Honey Gold   G    C       110        2    1     200    1.0   \n",
      "\n",
      "    carbo  sugars  potass  vitamins  shelf  weight  cups     rating  \\\n",
      "0     5.0       6     280        25      3     1.0  0.33  68.402973   \n",
      "1     8.0       8     135         0      3     1.0  1.00  33.983679   \n",
      "2     7.0       5     320        25      3     1.0  0.33  59.425505   \n",
      "3     8.0       0     330        25      3     1.0  0.50  93.704912   \n",
      "4    14.0       8      -1        25      3     1.0  0.75  34.384843   \n",
      "..    ...     ...     ...       ...    ...     ...   ...        ...   \n",
      "72   21.0       3      60        25      3     1.0  0.75  39.106174   \n",
      "73   13.0      12      25        25      2     1.0  1.00  27.753301   \n",
      "74   17.0       3     115        25      1     1.0  0.67  49.787445   \n",
      "75   17.0       3     110        25      1     1.0  1.00  51.592193   \n",
      "76   16.0       8      60        25      1     1.0  0.75  36.187559   \n",
      "\n",
      "   Type of Cereal  \n",
      "0            Bran  \n",
      "1            Bran  \n",
      "2            Bran  \n",
      "3            Bran  \n",
      "4           Other  \n",
      "..            ...  \n",
      "72          Other  \n",
      "73          Other  \n",
      "74          Wheat  \n",
      "75          Wheat  \n",
      "76          Wheat  \n",
      "\n",
      "[77 rows x 17 columns]\n"
     ]
    }
   ],
   "source": [
    "print(df)"
   ]
  },
  {
   "cell_type": "code",
   "execution_count": 103,
   "metadata": {
    "scrolled": true
   },
   "outputs": [
    {
     "name": "stdout",
     "output_type": "stream",
     "text": [
      "                         name mfr type  calories  protein  fat  sodium  fiber  \\\n",
      "0                   100% Bran   N    C        70        4    1     130   10.0   \n",
      "1           100% Natural Bran   Q    C       120        3    5      15    2.0   \n",
      "2                    All-Bran   K    C        70        4    1     260    9.0   \n",
      "3   All-Bran with Extra Fiber   K    C        50        4    0     140   14.0   \n",
      "4              Almond Delight   R    C       110        2    2     200    1.0   \n",
      "..                        ...  ..  ...       ...      ...  ...     ...    ...   \n",
      "72                    Triples   G    C       110        2    1     250    0.0   \n",
      "73                       Trix   G    C       110        1    1     140    0.0   \n",
      "74                 Wheat Chex   R    C       100        3    1     230    3.0   \n",
      "75                   Wheaties   G    C       100        3    1     200    3.0   \n",
      "76        Wheaties Honey Gold   G    C       110        2    1     200    1.0   \n",
      "\n",
      "    carbo  sugars  potass  vitamins  shelf  weight  cups     rating  \\\n",
      "0     5.0       6   280.0        25      3     1.0  0.33  68.402973   \n",
      "1     8.0       8   135.0         0      3     1.0  1.00  33.983679   \n",
      "2     7.0       5   320.0        25      3     1.0  0.33  59.425505   \n",
      "3     8.0       0   330.0        25      3     1.0  0.50  93.704912   \n",
      "4    14.0       8    90.0        25      3     1.0  0.75  34.384843   \n",
      "..    ...     ...     ...       ...    ...     ...   ...        ...   \n",
      "72   21.0       3    60.0        25      3     1.0  0.75  39.106174   \n",
      "73   13.0      12    25.0        25      2     1.0  1.00  27.753301   \n",
      "74   17.0       3   115.0        25      1     1.0  0.67  49.787445   \n",
      "75   17.0       3   110.0        25      1     1.0  1.00  51.592193   \n",
      "76   16.0       8    60.0        25      1     1.0  0.75  36.187559   \n",
      "\n",
      "   Type of Cereal  \n",
      "0            Bran  \n",
      "1            Bran  \n",
      "2            Bran  \n",
      "3            Bran  \n",
      "4           Other  \n",
      "..            ...  \n",
      "72          Other  \n",
      "73          Other  \n",
      "74          Wheat  \n",
      "75          Wheat  \n",
      "76          Wheat  \n",
      "\n",
      "[77 rows x 17 columns]\n"
     ]
    }
   ],
   "source": [
    "df.loc[df['potass'] < 0, 'potass'] = np.nan\n",
    "df['potass'] = df['potass'].fillna(df['potass'].median())\n",
    "print(df)"
   ]
  },
  {
   "cell_type": "code",
   "execution_count": 104,
   "metadata": {},
   "outputs": [],
   "source": [
    "# Define the criteria for healthy cereals\n",
    "healthy_criteria = (df['calories'] < 100) & (df['sodium'] < 150) & (df['sugars'] < 9) & (df['fiber'] > 3) & (df['protein'] > 2)\n"
   ]
  },
  {
   "cell_type": "code",
   "execution_count": 105,
   "metadata": {},
   "outputs": [],
   "source": [
    "# Create a new column 'Categorization' and set values based on the criteria\n",
    "df['Categorization'] = 'Unhealthy'\n",
    "df.loc[healthy_criteria, 'Categorization'] = 'Healthy'"
   ]
  },
  {
   "cell_type": "code",
   "execution_count": 106,
   "metadata": {},
   "outputs": [
    {
     "name": "stdout",
     "output_type": "stream",
     "text": [
      "                         name mfr type  calories  protein  fat  sodium  fiber  \\\n",
      "0                   100% Bran   N    C        70        4    1     130   10.0   \n",
      "1           100% Natural Bran   Q    C       120        3    5      15    2.0   \n",
      "2                    All-Bran   K    C        70        4    1     260    9.0   \n",
      "3   All-Bran with Extra Fiber   K    C        50        4    0     140   14.0   \n",
      "4              Almond Delight   R    C       110        2    2     200    1.0   \n",
      "..                        ...  ..  ...       ...      ...  ...     ...    ...   \n",
      "72                    Triples   G    C       110        2    1     250    0.0   \n",
      "73                       Trix   G    C       110        1    1     140    0.0   \n",
      "74                 Wheat Chex   R    C       100        3    1     230    3.0   \n",
      "75                   Wheaties   G    C       100        3    1     200    3.0   \n",
      "76        Wheaties Honey Gold   G    C       110        2    1     200    1.0   \n",
      "\n",
      "    carbo  sugars  potass  vitamins  shelf  weight  cups     rating  \\\n",
      "0     5.0       6   280.0        25      3     1.0  0.33  68.402973   \n",
      "1     8.0       8   135.0         0      3     1.0  1.00  33.983679   \n",
      "2     7.0       5   320.0        25      3     1.0  0.33  59.425505   \n",
      "3     8.0       0   330.0        25      3     1.0  0.50  93.704912   \n",
      "4    14.0       8    90.0        25      3     1.0  0.75  34.384843   \n",
      "..    ...     ...     ...       ...    ...     ...   ...        ...   \n",
      "72   21.0       3    60.0        25      3     1.0  0.75  39.106174   \n",
      "73   13.0      12    25.0        25      2     1.0  1.00  27.753301   \n",
      "74   17.0       3   115.0        25      1     1.0  0.67  49.787445   \n",
      "75   17.0       3   110.0        25      1     1.0  1.00  51.592193   \n",
      "76   16.0       8    60.0        25      1     1.0  0.75  36.187559   \n",
      "\n",
      "   Type of Cereal Categorization  \n",
      "0            Bran        Healthy  \n",
      "1            Bran      Unhealthy  \n",
      "2            Bran      Unhealthy  \n",
      "3            Bran        Healthy  \n",
      "4           Other      Unhealthy  \n",
      "..            ...            ...  \n",
      "72          Other      Unhealthy  \n",
      "73          Other      Unhealthy  \n",
      "74          Wheat      Unhealthy  \n",
      "75          Wheat      Unhealthy  \n",
      "76          Wheat      Unhealthy  \n",
      "\n",
      "[77 rows x 18 columns]\n"
     ]
    }
   ],
   "source": [
    "print(df)"
   ]
  },
  {
   "cell_type": "code",
   "execution_count": 107,
   "metadata": {},
   "outputs": [],
   "source": [
    "# Count the total number of cereals produced by each manufacturer\n",
    "manufacturer_counts = df['mfr'].value_counts()"
   ]
  },
  {
   "cell_type": "code",
   "execution_count": 108,
   "metadata": {},
   "outputs": [],
   "source": [
    "# Count the number of healthy cereals produced by each manufacturer\n",
    "healthy_counts = df[df['Categorization'] == 'Healthy']['mfr'].value_counts()\n"
   ]
  },
  {
   "cell_type": "code",
   "execution_count": 109,
   "metadata": {},
   "outputs": [],
   "source": [
    "result_df = pd.DataFrame({\n",
    "    'Manufacturer': manufacturer_counts.index,\n",
    "    'Total Cereals': manufacturer_counts.values,\n",
    "    'Healthy Cereals': healthy_counts.reindex(manufacturer_counts.index, fill_value=0).values\n",
    "})"
   ]
  },
  {
   "cell_type": "code",
   "execution_count": 110,
   "metadata": {},
   "outputs": [],
   "source": [
    "# Calculate the percentage of healthy cereals for each manufacturer\n",
    "result_df['Percentage Healthy'] = (result_df['Healthy Cereals'] / result_df['Total Cereals']) * 100\n"
   ]
  },
  {
   "cell_type": "code",
   "execution_count": 111,
   "metadata": {},
   "outputs": [
    {
     "name": "stdout",
     "output_type": "stream",
     "text": [
      "  Manufacturer  Total Cereals  Healthy Cereals  Percentage Healthy\n",
      "0            K             23                1            4.347826\n",
      "1            G             22                0            0.000000\n",
      "2            P              9                0            0.000000\n",
      "3            Q              8                0            0.000000\n",
      "4            R              8                0            0.000000\n",
      "5            N              6                2           33.333333\n",
      "6            A              1                0            0.000000\n"
     ]
    }
   ],
   "source": [
    "print(result_df)"
   ]
  },
  {
   "cell_type": "code",
   "execution_count": 112,
   "metadata": {},
   "outputs": [],
   "source": [
    "# Separate the DataFrame into healthy and unhealthy cereals\n",
    "healthy_cereals = df[df['Categorization'] == 'Healthy']\n",
    "unhealthy_cereals = df[df['Categorization'] == 'Unhealthy']"
   ]
  },
  {
   "cell_type": "code",
   "execution_count": 113,
   "metadata": {},
   "outputs": [],
   "source": [
    "# Calculate average, minimum, and maximum ratings for healthy cereals\n",
    "avg_rating_healthy = healthy_cereals['rating'].mean()\n",
    "min_rating_healthy = healthy_cereals['rating'].min()\n",
    "max_rating_healthy = healthy_cereals['rating'].max()"
   ]
  },
  {
   "cell_type": "code",
   "execution_count": 114,
   "metadata": {},
   "outputs": [],
   "source": [
    "# Calculate average, minimum, and maximum ratings for unhealthy cereals\n",
    "avg_rating_unhealthy = unhealthy_cereals['rating'].mean()\n",
    "min_rating_unhealthy = unhealthy_cereals['rating'].min()\n",
    "max_rating_unhealthy = unhealthy_cereals['rating'].max()"
   ]
  },
  {
   "cell_type": "code",
   "execution_count": 115,
   "metadata": {},
   "outputs": [
    {
     "name": "stdout",
     "output_type": "stream",
     "text": [
      "Healthy Cereals:\n",
      "Average Rating: 78.86027800000001\n",
      "Minimum Rating: 68.402973\n",
      "Maximum Rating: 93.704912\n",
      "\n",
      "Unhealthy Cereals:\n",
      "Average Rating: 41.19835743243243\n",
      "Minimum Rating: 18.042851\n",
      "Maximum Rating: 72.801787\n"
     ]
    }
   ],
   "source": [
    "# Display the results\n",
    "print(\"Healthy Cereals:\")\n",
    "print(\"Average Rating:\", avg_rating_healthy)\n",
    "print(\"Minimum Rating:\", min_rating_healthy)\n",
    "print(\"Maximum Rating:\", max_rating_healthy)\n",
    "print(\"\\nUnhealthy Cereals:\")\n",
    "print(\"Average Rating:\", avg_rating_unhealthy)\n",
    "print(\"Minimum Rating:\", min_rating_unhealthy)\n",
    "print(\"Maximum Rating:\", max_rating_unhealthy)"
   ]
  },
  {
   "cell_type": "code",
   "execution_count": 116,
   "metadata": {},
   "outputs": [],
   "source": [
    "# Define the types of cereal\n",
    "cereal_types = ['Bran', 'Wheat', 'Fiber', 'Protein', 'Crunch', 'Corn', 'Nut', 'Rice', 'Other']"
   ]
  },
  {
   "cell_type": "code",
   "execution_count": 117,
   "metadata": {},
   "outputs": [],
   "source": [
    "# Create an empty list to store dictionaries\n",
    "result_data = []"
   ]
  },
  {
   "cell_type": "code",
   "execution_count": 118,
   "metadata": {},
   "outputs": [],
   "source": [
    "# Calculate average, minimum, and maximum ratings for each type of cereal\n",
    "for cereal_type in cereal_types:\n",
    "    subset_df = df[df['Type of Cereal'] == cereal_type]\n",
    "    \n",
    "    avg_rating = subset_df['rating'].mean()\n",
    "    min_rating = subset_df['rating'].min()\n",
    "    max_rating = subset_df['rating'].max()\n",
    "    \n",
    "    result_data.append({\n",
    "        'Cereal Type': cereal_type,\n",
    "        'Average Rating': avg_rating,\n",
    "        'Minimum Rating': min_rating,\n",
    "        'Maximum Rating': max_rating\n",
    "    })"
   ]
  },
  {
   "cell_type": "code",
   "execution_count": 119,
   "metadata": {},
   "outputs": [
    {
     "name": "stdout",
     "output_type": "stream",
     "text": [
      "  Cereal Type  Average Rating  Minimum Rating  Maximum Rating\n",
      "0        Bran       50.714179       28.592785       93.704912\n",
      "1       Wheat       56.333863       36.176196       72.801787\n",
      "2       Fiber             NaN             NaN             NaN\n",
      "3     Protein             NaN             NaN             NaN\n",
      "4      Crunch             NaN             NaN             NaN\n",
      "5        Corn       40.482720       35.782791       45.863324\n",
      "6         Nut       42.433500       31.072217       53.371007\n",
      "7        Rice       47.771735       40.560159       60.756112\n",
      "8       Other       37.281694       21.871292       55.333142\n"
     ]
    }
   ],
   "source": [
    "# Create a DataFrame from the list of dictionaries\n",
    "result_df = pd.DataFrame(result_data)\n",
    "\n",
    "# Display the results\n",
    "print(result_df)"
   ]
  },
  {
   "cell_type": "code",
   "execution_count": 120,
   "metadata": {},
   "outputs": [],
   "source": [
    "# Group by 'mfr' and 'Type of Cereal' and count the occurrences\n",
    "grouped_df = df.groupby(['mfr', 'Type of Cereal']).size().unstack()"
   ]
  },
  {
   "cell_type": "code",
   "execution_count": 121,
   "metadata": {},
   "outputs": [
    {
     "data": {
      "image/png": "[encoded data removed]",
      "text/plain": [
       "<Figure size 1000x600 with 1 Axes>"
      ]
     },
     "metadata": {},
     "output_type": "display_data"
    }
   ],
   "source": [
    "# Plot stacked bar chart\n",
    "ax = grouped_df.plot(kind='bar', stacked=True, figsize=(10, 6))"
   ]
  },
  {
   "cell_type": "code",
   "execution_count": 122,
   "metadata": {},
   "outputs": [
    {
     "data": {
      "text/plain": [
       "<matplotlib.legend.Legend at 0x160d509d0>"
      ]
     },
     "execution_count": 122,
     "metadata": {},
     "output_type": "execute_result"
    },
    {
     "data": {
      "image/png": "[encoded data removed]",
      "text/plain": [
       "<Figure size 1000x800 with 1 Axes>"
      ]
     },
     "metadata": {},
     "output_type": "display_data"
    }
   ],
   "source": [
    "# Create a 3D scatterplot\n",
    "fig = plt.figure(figsize=(10, 8))\n",
    "ax = fig.add_subplot(111, projection='3d')\n",
    "# Scatterplot points for healthy cereals\n",
    "ax.scatter(df[df['Categorization'] == 'Healthy']['calories'],\n",
    "           df[df['Categorization'] == 'Healthy']['rating'],\n",
    "           c='green', label='Healthy', marker='o')\n",
    "# Scatterplot points for unhealthy cereals\n",
    "ax.scatter(df[df['Categorization'] == 'Unhealthy']['calories'],\n",
    "           df[df['Categorization'] == 'Unhealthy']['rating'],\n",
    "           c='red', label='Unhealthy', marker='o')\n",
    "# Set labels and title\n",
    "ax.set_xlabel('Calories')\n",
    "ax.set_ylabel('Rating')\n",
    "ax.set_zlabel('Categorization')\n",
    "ax.set_title('3D Scatterplot of Rating vs Calories')\n",
    "# Show legend\n",
    "ax.legend()"
   ]
  },
  {
   "cell_type": "code",
   "execution_count": 123,
   "metadata": {},
   "outputs": [],
   "source": [
    "#Based on the analysis, the shelf 3- All Bran with Extra fiber is the most healthy cereals"
   ]
  },
  {
   "cell_type": "code",
   "execution_count": 124,
   "metadata": {},
   "outputs": [],
   "source": [
    "# Based on the above analysis, we can conclude that Manufacture N produces the healthiest cereals. \n",
    "# It is also seen that the cereal with the highest ratings is noit necessarily the healthiest."
   ]
  },
  {
   "cell_type": "code",
   "execution_count": null,
   "metadata": {},
   "outputs": [],
   "source": []
  }
 ],
 "metadata": {
  "kernelspec": {
   "display_name": "Python 3 (ipykernel)",
   "language": "python",
   "name": "python3"
  },
  "language_info": {
   "codemirror_mode": {
    "name": "ipython",
    "version": 3
   },
   "file_extension": ".py",
   "mimetype": "text/x-python",
   "name": "python",
   "nbconvert_exporter": "python",
   "pygments_lexer": "ipython3",
   "version": "3.11.5"
  },
  "toc": {
   "base_numbering": 1,
   "nav_menu": {},
   "number_sections": false,
   "sideBar": true,
   "skip_h1_title": false,
   "title_cell": "Table of Contents",
   "title_sidebar": "Contents",
   "toc_cell": false,
   "toc_position": {},
   "toc_section_display": true,
   "toc_window_display": false
  }
 },
 "nbformat": 4,
 "nbformat_minor": 4
}
